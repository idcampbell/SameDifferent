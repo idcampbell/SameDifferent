{
 "cells": [
  {
   "cell_type": "code",
   "execution_count": 1,
   "id": "83ab9d75",
   "metadata": {},
   "outputs": [],
   "source": [
    "from itertools import combinations\n",
    "import argparse\n",
    "import numpy as np\n",
    "import pandas as pd\n",
    "import torch\n",
    "from webcolors import name_to_rgb\n",
    "from einops import repeat"
   ]
  },
  {
   "cell_type": "code",
   "execution_count": 2,
   "id": "82643c2f",
   "metadata": {},
   "outputs": [],
   "source": [
    "def generate_features(ncolors, nshapes):\n",
    "    '''Generate the raw features for the one-hot dataset.\n",
    "\n",
    "    Args:\n",
    "        ncolors (float): Number of one-hot colors to include in the dataset.\n",
    "        nshapes (float): Number of one-hot shapes to include in the dataset.\n",
    "    '''\n",
    "    shapes = torch.eye(nshapes)\n",
    "    colors = torch.eye(ncolors)\n",
    "    all_colors = torch.repeat_interleave(colors, nshapes, 0)\n",
    "    all_shapes = torch.tile(shapes, (ncolors,1))\n",
    "    all_sprites = torch.hstack([all_colors,all_shapes])\n",
    "    color_ids = np.argwhere(all_colors>0)[1].numpy()\n",
    "    shape_ids = np.argwhere(all_shapes>0)[1].numpy()\n",
    "    return all_sprites, color_ids, shape_ids \n",
    "\n",
    "\n",
    "def generate_sprites(sprites_file, colors_list, nshapes):\n",
    "    '''Generate the individual sprites for the image dataset. \n",
    "    \n",
    "    Args:\n",
    "        sprites_file (string): Path of the npy images of the black and white sprites.\n",
    "        colors_list: (list): List of the CSS2 colors to make the sprites.\n",
    "        nshapes (float): Number of unique shapes to include in the dataset (max=100).\n",
    "    '''\n",
    "    sprites = torch.tensor(np.load(sprites_file))[torch.randperm(nshapes)]\n",
    "    ncolors = len(colors_list)\n",
    "    all_sprites = torch.zeros([nshapes*ncolors, 3, 32, 32])\n",
    "    for i, color in enumerate(colors_list):\n",
    "        colors_matrix = torch.ones([nshapes, 3, 32, 32])\n",
    "        rgb = torch.tensor(name_to_rgb(color))\n",
    "        all_color = torch.einsum('ijkl,j->ijkl', colors_matrix, rgb) / 255\n",
    "        colored_shapes = torch.einsum('ijkl,ikl->ijkl', all_color, sprites) / 255\n",
    "        all_sprites[i*nshapes:(i+1)*nshapes] = colored_shapes\n",
    "    all_colors = np.repeat(colors_list, nshapes, 0)\n",
    "    all_shapes = np.tile(np.arange(nshapes), ncolors)\n",
    "    return all_sprites, all_colors, all_shapes\n",
    "\n",
    "\n",
    "def split_dataset(ncolors, nshapes, split_factor=2):\n",
    "    '''Generate test and train indices that split the dataset evenly over sprites.\n",
    "    \n",
    "    Args:\n",
    "        ncolors (float): Number of colors represented in the dataset.\n",
    "        nshapes: (float): Number of shapes represented in the dataset.\n",
    "        split_factor: (int, optional): Number of times each sprite should appear in the SameDifferent dataset (ie. each sprite represented in split_factor comparisons)\n",
    "    '''\n",
    "    # Generate the correct indices to split the data in a way that preserves even feature sampling.\n",
    "    nums = np.arange(ncolors)\n",
    "    inds = np.zeros([ncolors, nshapes]).astype(int)\n",
    "    for i in range(split_factor):\n",
    "        rolled_inds = np.roll(nums, -i)\n",
    "        inds[rolled_inds, np.arange(nshapes)] = 1\n",
    "    # Now return the training and testing set indices.\n",
    "    train_inds = np.ravel(inds).astype(bool)\n",
    "    test_inds = np.logical_not(train_inds)\n",
    "    return train_inds, test_inds\n",
    "\n",
    "\n",
    "def create_comparisons(sprites, colors, shapes):\n",
    "    '''Generate all possible comparisons for the SameDifferent dataset (works with either image or one-hot datasets).\n",
    "    \n",
    "    Args:\n",
    "        sprites (tensor): Tensor of all sprites (either one-hot sprites (nbatch, nfeatures) or image sprites (nbatch, 3, 32, 32)).\n",
    "        colors: (np.array): Array of sprite colors.\n",
    "        shapes (np.array): Array of sprite shape IDs.\n",
    "    '''\n",
    "    n = sprites.shape[0]\n",
    "    comparisons = torch.zeros([n**2, 2, *sprites[0].shape])\n",
    "    metadata = pd.DataFrame(np.zeros([n**2, 10]), columns=['shape1', 'color1', 'shape2', 'color2', 'ID1', 'ID2', 'compID', 'sameShape', 'sameColor', 'sameSprite'])\n",
    "    for i, sprite in enumerate(sprites):\n",
    "        # Add shape, color, and ID fields to metadata.\n",
    "        sprite1ID =  np.char.array(np.repeat(colors[i], n)) + '-' + np.char.array(np.repeat(shapes[i], n).astype(str))\n",
    "        sprite2ID = np.char.array(colors) + '-' + np.char.array(shapes.astype(str)) \n",
    "        metadata.iloc[i*n:(i+1)*n, :7] = np.array([shapes[i], colors[i], shapes, colors, sprite1ID, sprite2ID, sprite1ID+'/'+sprite2ID], dtype='object')\n",
    "        # Add the images to the comparisons tensor.\n",
    "        comparisons[i*n:(i+1)*n, 0] = torch.stack([sprite for _ in range(n)])\n",
    "        comparisons[i*n:(i+1)*n, 1] = sprites\n",
    "    metadata['sameShape'] = (metadata['shape1']==metadata['shape2']).astype(int)\n",
    "    metadata['sameColor'] = (metadata['color1']==metadata['color2']).astype(int)\n",
    "    metadata['sameSprite'] = (metadata['sameShape'] & metadata['sameColor']).astype(int)\n",
    "    return comparisons, metadata\n",
    "\n",
    "\n",
    "def get_split_inds(metadata, split_factor=2):\n",
    "    '''ASDF\n",
    "    \n",
    "    Args:\n",
    "        metadata (tensor): \n",
    "        split_factor: (np.array, optional): Array of sprite colors.\n",
    "    '''\n",
    "    match_mask = (metadata['sameColor']==1).values | (metadata['sameShape']==1).values\n",
    "    nonmatch_mask = np.zeros_like(match_mask)\n",
    "    for spriteID in np.unique(train_metadata.ID1.values):\n",
    "        sprite_mask = train_metadata.ID1.values==spriteID\n",
    "        nonmatch_inds = np.where(sprite_mask & ~match_mask)[0]\n",
    "        np.random.shuffle(nonmatch_inds)\n",
    "        nonmatch_mask[nonmatch_inds[:split_factor+1]] = 1 # Grab the first n non-matches.\n",
    "    return metadata[match_mask | nonmatch_mask].compID.values"
   ]
  },
  {
   "cell_type": "code",
   "execution_count": 3,
   "id": "29d7a134",
   "metadata": {},
   "outputs": [],
   "source": [
    "color_ids = ['aqua', 'blue', 'fuchsia', 'green', 'grey', 'lime', 'maroon', 'navy', 'olive', 'purple', 'red', 'silver', 'teal', 'white', 'yellow', 'orange']\n",
    "sprites_file = '../sprites.npy'\n",
    "nsprites = len(color_ids)\n",
    "sprites, colors, shapes = generate_sprites(sprites_file, color_ids, nsprites) #generate_features(16, 16) #\n",
    "all_comparisons, all_metadata = create_comparisons(sprites, colors, shapes)\n",
    "#torch.save(all_comparisons, 'data/image_comparisons.pt')\n",
    "split_factors = np.arange(2, 15)\n",
    "\n",
    "for split in split_factors:\n",
    "    train_inds, holdout_inds = split_dataset(16, 16, split_factor=split)\n",
    "    # Generate all comparisons of the valid subset.\n",
    "    all_train_sprites, all_train_metadata = create_comparisons(sprites[train_inds], colors[train_inds], shapes[train_inds])\n",
    "    #all_train_metadata = all_train_metadata[all_train_metadata['sameSprite']==0] # Drop double congruencies.\n",
    "    all_metadata['isTrain_'+'split'+str(split)+'_all'] = all_metadata['compID'].isin(all_train_metadata.compID.values).values\n",
    "    \n",
    "    # Limit training examples by subsampling the non-matches.\n",
    "    train_comp_ids = get_split_inds(train_metadata, split_factor=split)\n",
    "    all_metadata['isTrain_'+'split'+str(split)+'_reduced'] = all_metadata['compID'].isin(train_comp_ids).values\n",
    "    \n",
    "#all_metadata.to_csv('data/image_metadata.csv')"
   ]
  },
  {
   "cell_type": "markdown",
   "id": "ade7cc10",
   "metadata": {},
   "source": [
    "#### Plot example sprites."
   ]
  },
  {
   "cell_type": "code",
   "execution_count": 69,
   "id": "1bf79d56",
   "metadata": {},
   "outputs": [
    {
     "data": {
      "text/plain": [
       "<matplotlib.image.AxesImage at 0x7fa396656ec0>"
      ]
     },
     "execution_count": 69,
     "metadata": {},
     "output_type": "execute_result"
    },
    {
     "data": {
      "image/png": "[encoded data removed]",
      "text/plain": [
       "<Figure size 640x480 with 1 Axes>"
      ]
     },
     "metadata": {},
     "output_type": "display_data"
    }
   ],
   "source": [
    "from matplotlib import cm\n",
    "import matplotlib.pyplot as plt\n",
    "import matplotlib as mpl\n",
    "\n",
    "cmap = cm.get_cmap('cool', 16) #'brg'\n",
    "x = cmap(np.linspace(0,1,16))\n",
    "(x - np.roll(x, -1, axis=0)) #.sum(1)\n",
    "plt.imshow(1-distance_matrix(x,x))"
   ]
  },
  {
   "cell_type": "code",
   "execution_count": 67,
   "id": "3964d00a",
   "metadata": {},
   "outputs": [
    {
     "data": {
      "text/plain": [
       "<matplotlib.colorbar.Colorbar at 0x7fa396f30580>"
      ]
     },
     "execution_count": 67,
     "metadata": {},
     "output_type": "execute_result"
    },
    {
     "data": {
      "image/png": "[encoded data removed]",
      "text/plain": [
       "<Figure size 400x40 with 1 Axes>"
      ]
     },
     "metadata": {},
     "output_type": "display_data"
    }
   ],
   "source": [
    "fig, ax = plt.subplots(figsize=(4,0.4))\n",
    "mpl.colorbar.ColorbarBase(ax, cmap=cmap, orientation='horizontal')"
   ]
  },
  {
   "cell_type": "code",
   "execution_count": 33,
   "id": "89d2989d",
   "metadata": {},
   "outputs": [
    {
     "data": {
      "image/png": "[encoded data removed]",
      "text/plain": [
       "<Figure size 800x800 with 16 Axes>"
      ]
     },
     "metadata": {},
     "output_type": "display_data"
    }
   ],
   "source": [
    "import matplotlib.pyplot as plt\n",
    "\n",
    "plot_sprites = sprites[train_inds].reshape(4, 4, 3, 32, 32)\n",
    "\n",
    "fig, axes = plt.subplots(4, 4, figsize=(8,8), sharex=True, sharey=True)\n",
    "for i in range(4):\n",
    "    for j in range(4):\n",
    "        axes[i, j].imshow(np.rot90(plot_sprites[i, j].swapaxes(0,2), k=3))\n",
    "        \n",
    "for ax in np.ravel(axes):\n",
    "    ax.set_xticks([])\n",
    "    ax.set_yticks([])\n",
    "plt.tight_layout()\n",
    "#plt.savefig('example_sprites.png')"
   ]
  },
  {
   "cell_type": "markdown",
   "id": "413356f0",
   "metadata": {},
   "source": [
    "#### Plot some example comparisons."
   ]
  },
  {
   "cell_type": "code",
   "execution_count": 3,
   "id": "216a06c3",
   "metadata": {},
   "outputs": [],
   "source": [
    "color_ids = ['aqua', 'fuchsia']\n",
    "sprites_file = '../sprites.npy'\n",
    "sprites, colors, shapes = generate_sprites(sprites_file, color_ids, 2)\n",
    "train_inds, holdout_inds = split_dataset(2, 2, split_factor=2)\n",
    "train_comps, train_metadata = jons_create_comparisons(sprites, colors, shapes, train_inds, split_factor=2, ncolors=2, nshapes=2)"
   ]
  },
  {
   "cell_type": "code",
   "execution_count": 7,
   "id": "5423a518",
   "metadata": {
    "scrolled": false
   },
   "outputs": [
    {
     "data": {
      "image/png": "[encoded data removed]",
      "text/plain": [
       "<Figure size 1300x400 with 12 Axes>"
      ]
     },
     "metadata": {},
     "output_type": "display_data"
    }
   ],
   "source": [
    "import matplotlib.pyplot as plt\n",
    "from matplotlib import rc\n",
    "\n",
    "fig, axes = plt.subplots(2, 6, figsize=(13,4), sharex=True, sharey=True)\n",
    "matches = ['matchShape=$False$ \\n matchColor=$True$',\n",
    "           'matchShape=$False$ \\n matchColor=$True$',\n",
    "           'matchShape=$True$ \\n matchColor=$False$',\n",
    "           'matchShape=$False$ \\n matchColor=$True$',\n",
    "           'matchShape=$False$ \\n matchColor=$False$',\n",
    "           'matchShape=$False$ \\n matchColor=$False$',]\n",
    "nmatch_inds = [(0, 3), (1, 2)]\n",
    "nmatch_comps = torch.stack([torch.stack([sprites[ind[0]], sprites[ind[1]]]) for ind in nmatch_inds])\n",
    "comps = torch.cat([train_comps, nmatch_comps])\n",
    "\n",
    "for i in range(6):\n",
    "    axes[0,i].set_title(matches[i], fontsize=13)\n",
    "    axes[0,i].imshow(comps[i, 0].swapaxes(0,2))\n",
    "    axes[1,i].imshow(comps[i, 1].swapaxes(0,2))\n",
    "for ax in np.ravel(axes):\n",
    "    ax.set_xticks([])\n",
    "    ax.set_yticks([])\n",
    "plt.tight_layout()\n",
    "plt.savefig('example_comparisons.png')"
   ]
  },
  {
   "cell_type": "code",
   "execution_count": null,
   "id": "b2f1a52c",
   "metadata": {},
   "outputs": [],
   "source": []
  },
  {
   "cell_type": "code",
   "execution_count": null,
   "id": "04a6327e",
   "metadata": {},
   "outputs": [],
   "source": []
  },
  {
   "cell_type": "code",
   "execution_count": null,
   "id": "67e6b08f",
   "metadata": {},
   "outputs": [],
   "source": []
  },
  {
   "cell_type": "code",
   "execution_count": null,
   "id": "a612947a",
   "metadata": {},
   "outputs": [],
   "source": []
  },
  {
   "cell_type": "code",
   "execution_count": null,
   "id": "1abb5131",
   "metadata": {},
   "outputs": [],
   "source": []
  },
  {
   "cell_type": "code",
   "execution_count": null,
   "id": "22f90d76",
   "metadata": {},
   "outputs": [],
   "source": [
    "def parse_args():\n",
    "    color_ids = ['aqua', 'blue', 'fuchsia', 'green', 'grey', 'lime', 'maroon', 'navy', 'olive', 'purple', 'red', 'silver', 'teal', 'white', 'yellow', 'orange']\n",
    "    ap = argparse.ArgumentParser()\n",
    "    ap.add_argument('sprites_path', help='Path of sprites data to generate the dataset.', required=False)\n",
    "    ap.add_argument('-s', '--nShapes', type=str, default=16, help='Number of shapes to include in the datasets.')\n",
    "    ap.add_argument('-c', '--nColors', type=str, default=16, help='Number of colors to include in the datasets.')\n",
    "    ap.add_argument('-l', '--colors', default=color_ids, help='Colors to use when generating the dataset.')\n",
    "    ap.add_argument('-p', '--splits', nargs='*', default=np.arange(2, 15), help='Split factors to use when generating the dataset.')\n",
    "    args = ap.parse_args() \n",
    "    return args"
   ]
  },
  {
   "cell_type": "code",
   "execution_count": null,
   "id": "889c62a3",
   "metadata": {},
   "outputs": [],
   "source": [
    "def reduce_dataset(comparisons, metadata, split_factor=16, ncolors=16, nshapes=16):\n",
    "    '''Reduce the number of comparisons in the dataset while ensuring that \n",
    "    \n",
    "    Args:\n",
    "        comparisons (tensor): Tensor of all SameDifferent comparisons (one-hot sprites: (nbatch, nfeatures) or image sprites: (nbatch, 3, 32, 32)).\n",
    "        metadata: (pd.DataFrame): \n",
    "        split_factor (np.array, optional): \n",
    "    '''\n",
    "    # Get the ID's for sprites that we want to train on.\n",
    "    good_sprite_inds, _ = split_dataset(ncolors, nshapes, split_factor=split_factor)\n",
    "    temp_metadata = metadata[good_sprite_inds.repeat(ncolors*nshapes)]\n",
    "    good_sprite_ids = np.where(good_sprite_inds)[0]\n",
    "    # Create a mask that filters out comparisons that include hold-out sprites we don't want to train on.\n",
    "    good_mask = np.isin(metadata.ID1.values, good_sprite_ids) & np.isin(metadata.ID2.values, good_sprite_ids)\n",
    "    same_color_inds = (metadata['sameColor']==1).values\n",
    "    same_shape_inds = (metadata['sameShape']==1).values\n",
    "    match_mask = good_mask & same_color_inds | same_shape_inds\n",
    "    # Iterate over unique sprites to get indices of non-match.\n",
    "    nonmatch_mask = np.zeros_like(match_mask)\n",
    "    good_match_mask = np.zeros_like(match_mask)\n",
    "    for sid in good_sprite_ids:\n",
    "        id_mask = metadata.ID1.values==sid\n",
    "        # Sample n-split-factor random matches and non-matches for each shape.\n",
    "        nonmatch_inds = np.argwhere((good_mask & id_mask & ~match_mask)>0).T[0]\n",
    "        match_inds = np.argwhere((good_mask & id_mask & match_mask)>0).T[0]\n",
    "        np.random.shuffle(nonmatch_inds)\n",
    "        nonmatch_mask[nonmatch_inds[:split_factor+1]] = 1 # Grab the first n non-matches.\n",
    "        good_match_mask[match_inds] = 1\n",
    "    comps = np.concatenate([comparisons[good_match_mask], comparisons[nonmatch_mask]])\n",
    "    metadata = pd.concat([metadata[good_match_mask], metadata[nonmatch_mask]])\n",
    "    return comps, metadata \n"
   ]
  }
 ],
 "metadata": {
  "kernelspec": {
   "display_name": "Python 3 (ipykernel)",
   "language": "python",
   "name": "python3"
  },
  "language_info": {
   "codemirror_mode": {
    "name": "ipython",
    "version": 3
   },
   "file_extension": ".py",
   "mimetype": "text/x-python",
   "name": "python",
   "nbconvert_exporter": "python",
   "pygments_lexer": "ipython3",
   "version": "3.10.4"
  }
 },
 "nbformat": 4,
 "nbformat_minor": 5
}
